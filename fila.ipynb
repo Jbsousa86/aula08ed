{
 "cells": [
  {
   "cell_type": "markdown",
   "metadata": {},
   "source": [
    "Implementação de Fila\n",
    "Nó da fila"
   ]
  },
  {
   "cell_type": "code",
   "execution_count": 1,
   "metadata": {},
   "outputs": [],
   "source": [
    "class Node:\n",
    "    def __init__(self, value):\n",
    "        self.value = value\n",
    "        self.next = None"
   ]
  },
  {
   "cell_type": "markdown",
   "metadata": {},
   "source": [
    "Fila"
   ]
  },
  {
   "cell_type": "code",
   "execution_count": 2,
   "metadata": {},
   "outputs": [],
   "source": [
    "class Queue:\n",
    "    def __init__(self):\n",
    "        self.front = None\n",
    "        self.rear = None\n",
    "    \n",
    "    # Inclusão de elementos na fila\n",
    "    def enqueue(self, value):\n",
    "        new_node = Node(value)\n",
    "\n",
    "        if self.front == None:\n",
    "            self.front = self.rear = new_node\n",
    "            return\n",
    "        self.rear.next = new_node\n",
    "        self.rear = new_node\n",
    "\n",
    "    # Remoção de elemnto da fila\n",
    "    def dequeue(self):\n",
    "        if self.front == None:\n",
    "            raise Exception(\"Queue is empty\")\n",
    "        temp = self.front\n",
    "        self.front = self.front.next\n",
    "        if self.front == None:\n",
    "            self.rear = None\n",
    "        return temp.value\n",
    "\n",
    "    # Acessa o primeiro elemento da fila\n",
    "    def peek(self):\n",
    "        if self.front == None:\n",
    "            raise Exception(\"Queue is empty\")\n",
    "        return self.front.value\n",
    "    \n",
    "    # Verifica se a fila está vazia\n",
    "    def is_empty(self):\n",
    "        return self.front == None\n",
    "\n",
    "    # Exibe a fila\n",
    "    def display_queue(self):\n",
    "        current = self.front\n",
    "        while current != None:\n",
    "            print(current.value, end=\" \")\n",
    "            current = current.next"
   ]
  },
  {
   "cell_type": "markdown",
   "metadata": {},
   "source": [
    "Teste de uso da fila"
   ]
  },
  {
   "cell_type": "code",
   "execution_count": 36,
   "metadata": {},
   "outputs": [
    {
     "name": "stdout",
     "output_type": "stream",
     "text": [
      "1 2 3 \n",
      "Depois de adicionado os elementos:\n",
      "1 2 3 4 5 6 \n",
      "Depois de remover os elementos:\n",
      "3 4 5 6 \n",
      "Visualizando o primeiro elemento da fila:\n",
      "3\n",
      "Veririficando se a fila está vazia:\n",
      "A fila não está vazia:\n"
     ]
    }
   ],
   "source": [
    "fila = Queue()\n",
    "\n",
    "\n",
    "fila.enqueue(1)\n",
    "fila.enqueue(2)\n",
    "fila.enqueue(3)\n",
    "fila.display_queue()\n",
    "\n",
    "print(\"\")\n",
    "print(\"Depois de adicionado os elementos:\")\n",
    "\n",
    "fila.enqueue(4)\n",
    "fila.enqueue(5)\n",
    "fila.enqueue(6)\n",
    "\n",
    "\n",
    "fila.display_queue()\n",
    "\n",
    "fila.dequeue()\n",
    "fila.dequeue()\n",
    "\n",
    "print(\"\")\n",
    "print(\"Depois de remover os elementos:\")\n",
    "\n",
    "fila.display_queue()\n",
    "\n",
    "print(\"\")\n",
    "print(\"Visualizando o primeiro elemento da fila:\")\n",
    "\n",
    "\n",
    "print(fila.peek())\n",
    "\n",
    "print(\"Veririficando se a fila está vazia:\")\n",
    "\n",
    "if fila.is_empty():\n",
    "    print(\"A fila está vazia:\")\n",
    "else:\n",
    "    print(\"A fila não está vazia:\")    \n"
   ]
  }
 ],
 "metadata": {
  "kernelspec": {
   "display_name": "Python 3",
   "language": "python",
   "name": "python3"
  },
  "language_info": {
   "codemirror_mode": {
    "name": "ipython",
    "version": 3
   },
   "file_extension": ".py",
   "mimetype": "text/x-python",
   "name": "python",
   "nbconvert_exporter": "python",
   "pygments_lexer": "ipython3",
   "version": "3.13.1"
  }
 },
 "nbformat": 4,
 "nbformat_minor": 2
}
